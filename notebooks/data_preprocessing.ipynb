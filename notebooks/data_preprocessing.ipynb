{
 "cells": [
  {
   "cell_type": "code",
   "execution_count": 1,
   "id": "6525fc6f",
   "metadata": {},
   "outputs": [],
   "source": [
    "import numpy as np\n",
    "import pandas as pd\n",
    "import string\n",
    "import re"
   ]
  },
  {
   "cell_type": "code",
   "execution_count": 2,
   "id": "2cae828c",
   "metadata": {},
   "outputs": [],
   "source": [
    "with open('businessCard.txt', 'r', encoding='utf8', errors='ignore') as f:\n",
    "    text = f.read()"
   ]
  },
  {
   "cell_type": "code",
   "execution_count": 3,
   "id": "6c398165",
   "metadata": {
    "scrolled": false
   },
   "outputs": [],
   "source": [
    "data = list(map(lambda x: x.split('\\t'),text.split('\\n')))"
   ]
  },
  {
   "cell_type": "code",
   "execution_count": 4,
   "id": "230bf9b9",
   "metadata": {},
   "outputs": [],
   "source": [
    "df = pd.DataFrame(data[1:],columns=data[0])\n",
    "df.dropna(inplace=True)"
   ]
  },
  {
   "cell_type": "code",
   "execution_count": 5,
   "id": "6f50da41",
   "metadata": {},
   "outputs": [
    {
     "data": {
      "text/html": [
       "<div>\n",
       "<style scoped>\n",
       "    .dataframe tbody tr th:only-of-type {\n",
       "        vertical-align: middle;\n",
       "    }\n",
       "\n",
       "    .dataframe tbody tr th {\n",
       "        vertical-align: top;\n",
       "    }\n",
       "\n",
       "    .dataframe thead th {\n",
       "        text-align: right;\n",
       "    }\n",
       "</style>\n",
       "<table border=\"1\" class=\"dataframe\">\n",
       "  <thead>\n",
       "    <tr style=\"text-align: right;\">\n",
       "      <th></th>\n",
       "      <th>id</th>\n",
       "      <th>text</th>\n",
       "      <th>tag</th>\n",
       "    </tr>\n",
       "  </thead>\n",
       "  <tbody>\n",
       "    <tr>\n",
       "      <th>0</th>\n",
       "      <td>000.jpeg</td>\n",
       "      <td></td>\n",
       "      <td>O</td>\n",
       "    </tr>\n",
       "    <tr>\n",
       "      <th>1</th>\n",
       "      <td>000.jpeg</td>\n",
       "      <td>.</td>\n",
       "      <td>O</td>\n",
       "    </tr>\n",
       "    <tr>\n",
       "      <th>2</th>\n",
       "      <td>000.jpeg</td>\n",
       "      <td>040-4852</td>\n",
       "      <td>B-PHONE</td>\n",
       "    </tr>\n",
       "    <tr>\n",
       "      <th>3</th>\n",
       "      <td>000.jpeg</td>\n",
       "      <td>\"8881,\"</td>\n",
       "      <td>I-PHONE</td>\n",
       "    </tr>\n",
       "    <tr>\n",
       "      <th>4</th>\n",
       "      <td>000.jpeg</td>\n",
       "      <td>90309</td>\n",
       "      <td>B-PHONE</td>\n",
       "    </tr>\n",
       "  </tbody>\n",
       "</table>\n",
       "</div>"
      ],
      "text/plain": [
       "         id      text      tag\n",
       "0  000.jpeg                  O\n",
       "1  000.jpeg         .        O\n",
       "2  000.jpeg  040-4852  B-PHONE\n",
       "3  000.jpeg   \"8881,\"  I-PHONE\n",
       "4  000.jpeg     90309  B-PHONE"
      ]
     },
     "execution_count": 5,
     "metadata": {},
     "output_type": "execute_result"
    }
   ],
   "source": [
    "df.head()"
   ]
  },
  {
   "cell_type": "code",
   "execution_count": 6,
   "id": "b8d87bdc",
   "metadata": {},
   "outputs": [],
   "source": [
    "# cleaning\n",
    "whitespace = string.whitespace\n",
    "punctuation = \"!#$%&\\'()*+:;<=>?[\\\\]^`{|}~\"\n",
    "tableWhitespace = str.maketrans('','',whitespace)\n",
    "tablePunctuation = str.maketrans('','',punctuation)\n",
    "\n",
    "def cleanText(txt):\n",
    "    text = str(txt)\n",
    "    text = text.lower()\n",
    "    removewhitespace = text.translate(tableWhitespace)\n",
    "    removepunctuation = removewhitespace.translate(tablePunctuation)\n",
    "    return str(removepunctuation)"
   ]
  },
  {
   "cell_type": "code",
   "execution_count": 7,
   "id": "de8035ff",
   "metadata": {},
   "outputs": [],
   "source": [
    "df['text'] = df['text'].apply(cleanText)"
   ]
  },
  {
   "cell_type": "code",
   "execution_count": 9,
   "id": "88871093",
   "metadata": {},
   "outputs": [
    {
     "name": "stderr",
     "output_type": "stream",
     "text": [
      "C:\\Users\\admin\\AppData\\Local\\Temp\\ipykernel_22240\\1196878385.py:2: SettingWithCopyWarning: \n",
      "A value is trying to be set on a copy of a slice from a DataFrame\n",
      "\n",
      "See the caveats in the documentation: https://pandas.pydata.org/pandas-docs/stable/user_guide/indexing.html#returning-a-view-versus-a-copy\n",
      "  dataClean.dropna(inplace=True)\n"
     ]
    }
   ],
   "source": [
    "dataClean = df.query('text !=\"\"')\n",
    "dataClean.dropna(inplace=True)"
   ]
  },
  {
   "cell_type": "code",
   "execution_count": 10,
   "id": "ab61e794",
   "metadata": {},
   "outputs": [
    {
     "data": {
      "text/html": [
       "<div>\n",
       "<style scoped>\n",
       "    .dataframe tbody tr th:only-of-type {\n",
       "        vertical-align: middle;\n",
       "    }\n",
       "\n",
       "    .dataframe tbody tr th {\n",
       "        vertical-align: top;\n",
       "    }\n",
       "\n",
       "    .dataframe thead th {\n",
       "        text-align: right;\n",
       "    }\n",
       "</style>\n",
       "<table border=\"1\" class=\"dataframe\">\n",
       "  <thead>\n",
       "    <tr style=\"text-align: right;\">\n",
       "      <th></th>\n",
       "      <th>id</th>\n",
       "      <th>text</th>\n",
       "      <th>tag</th>\n",
       "    </tr>\n",
       "  </thead>\n",
       "  <tbody>\n",
       "    <tr>\n",
       "      <th>1</th>\n",
       "      <td>000.jpeg</td>\n",
       "      <td>.</td>\n",
       "      <td>O</td>\n",
       "    </tr>\n",
       "    <tr>\n",
       "      <th>2</th>\n",
       "      <td>000.jpeg</td>\n",
       "      <td>040-4852</td>\n",
       "      <td>B-PHONE</td>\n",
       "    </tr>\n",
       "    <tr>\n",
       "      <th>3</th>\n",
       "      <td>000.jpeg</td>\n",
       "      <td>\"8881,\"</td>\n",
       "      <td>I-PHONE</td>\n",
       "    </tr>\n",
       "    <tr>\n",
       "      <th>4</th>\n",
       "      <td>000.jpeg</td>\n",
       "      <td>90309</td>\n",
       "      <td>B-PHONE</td>\n",
       "    </tr>\n",
       "    <tr>\n",
       "      <th>5</th>\n",
       "      <td>000.jpeg</td>\n",
       "      <td>52549</td>\n",
       "      <td>I-PHONE</td>\n",
       "    </tr>\n",
       "    <tr>\n",
       "      <th>6</th>\n",
       "      <td>000.jpeg</td>\n",
       "      <td>fi</td>\n",
       "      <td>O</td>\n",
       "    </tr>\n",
       "    <tr>\n",
       "      <th>7</th>\n",
       "      <td>000.jpeg</td>\n",
       "      <td>/laurelsoverseaseducation</td>\n",
       "      <td>O</td>\n",
       "    </tr>\n",
       "    <tr>\n",
       "      <th>8</th>\n",
       "      <td>000.jpeg</td>\n",
       "      <td>@</td>\n",
       "      <td>O</td>\n",
       "    </tr>\n",
       "    <tr>\n",
       "      <th>9</th>\n",
       "      <td>000.jpeg</td>\n",
       "      <td>laurels</td>\n",
       "      <td>B-ORG</td>\n",
       "    </tr>\n",
       "    <tr>\n",
       "      <th>10</th>\n",
       "      <td>000.jpeg</td>\n",
       "      <td>overseas</td>\n",
       "      <td>I-ORG</td>\n",
       "    </tr>\n",
       "  </tbody>\n",
       "</table>\n",
       "</div>"
      ],
      "text/plain": [
       "          id                       text      tag\n",
       "1   000.jpeg                          .        O\n",
       "2   000.jpeg                   040-4852  B-PHONE\n",
       "3   000.jpeg                    \"8881,\"  I-PHONE\n",
       "4   000.jpeg                      90309  B-PHONE\n",
       "5   000.jpeg                      52549  I-PHONE\n",
       "6   000.jpeg                         fi        O\n",
       "7   000.jpeg  /laurelsoverseaseducation        O\n",
       "8   000.jpeg                          @        O\n",
       "9   000.jpeg                    laurels    B-ORG\n",
       "10  000.jpeg                   overseas    I-ORG"
      ]
     },
     "execution_count": 10,
     "metadata": {},
     "output_type": "execute_result"
    }
   ],
   "source": [
    "dataClean.head(10)"
   ]
  },
  {
   "cell_type": "code",
   "execution_count": null,
   "id": "da3e279e",
   "metadata": {},
   "outputs": [],
   "source": []
  }
 ],
 "metadata": {
  "kernelspec": {
   "display_name": "Python 3 (ipykernel)",
   "language": "python",
   "name": "python3"
  },
  "language_info": {
   "codemirror_mode": {
    "name": "ipython",
    "version": 3
   },
   "file_extension": ".py",
   "mimetype": "text/x-python",
   "name": "python",
   "nbconvert_exporter": "python",
   "pygments_lexer": "ipython3",
   "version": "3.10.0"
  }
 },
 "nbformat": 4,
 "nbformat_minor": 5
}
